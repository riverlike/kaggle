{
  "nbformat": 4,
  "nbformat_minor": 0,
  "metadata": {
    "colab": {
      "name": "20220115_영화리뷰감성분석.ipynb",
      "provenance": []
    },
    "kernelspec": {
      "name": "python3",
      "display_name": "Python 3"
    },
    "language_info": {
      "name": "python"
    }
  },
  "cells": [
    {
      "cell_type": "markdown",
      "source": [
        "# LSTM 모형 비교(Public Score : 0.847) \n",
        "---\n",
        "코드공유 : https://dacon.io/competitions/official/235864/codeshare/4180?page=1&dtype=recent\n",
        "\n",
        "필사전에 참고할 기본 코드\n",
        "1. [데이콘 EDA](https://dacon.io/competitions/official/235864/codeshare/4127?page=1&dtype=recent)\n",
        "2. [데이콘 Base line code](https://dacon.io/competitions/official/235864/codeshare/4142?page=1&dtype=recent)"
      ],
      "metadata": {
        "id": "gyDhGfznALj0"
      }
    },
    {
      "cell_type": "markdown",
      "source": [
        "# 1. 데이터 로드"
      ],
      "metadata": {
        "id": "bbLURr-RXaVh"
      }
    },
    {
      "cell_type": "code",
      "execution_count": null,
      "metadata": {
        "id": "TfDH3pfx-0jh",
        "colab": {
          "base_uri": "https://localhost:8080/"
        },
        "outputId": "dd457c89-13c5-4294-b234-0f58e35067f1"
      },
      "outputs": [
        {
          "output_type": "stream",
          "name": "stdout",
          "text": [
            "/content\n"
          ]
        }
      ],
      "source": [
        "# 현재 작업 경로를 얻는 함수\n",
        "import os\n",
        "print(os.getcwd())"
      ]
    },
    {
      "cell_type": "code",
      "source": [
        "#데이터 불러오기\n",
        "import pandas as pd\n",
        "train = pd.read_csv('/content/drive/MyDrive/Colab Notebooks/Aiffel/03_Kaggle_Dacon/20220115_영화리뷰감성분석/train.csv')\n",
        "test = pd.read_csv('/content/drive/MyDrive/Colab Notebooks/Aiffel/03_Kaggle_Dacon/20220115_영화리뷰감성분석/test.csv')\n",
        "submission = pd.read_csv('/content/drive/MyDrive/Colab Notebooks/Aiffel/03_Kaggle_Dacon/20220115_영화리뷰감성분석/sample_submission.csv')"
      ],
      "metadata": {
        "id": "Jz_CuK4LVvWr"
      },
      "execution_count": null,
      "outputs": []
    },
    {
      "cell_type": "code",
      "source": [
        "train.head(3)"
      ],
      "metadata": {
        "colab": {
          "base_uri": "https://localhost:8080/",
          "height": 143
        },
        "id": "myWTdZJHWvQ7",
        "outputId": "704c2a41-647f-49c7-ac98-318ad7054eb3"
      },
      "execution_count": null,
      "outputs": [
        {
          "output_type": "execute_result",
          "data": {
            "text/html": [
              "\n",
              "  <div id=\"df-fb7b3663-6ab4-4f54-8721-ea6f25e41017\">\n",
              "    <div class=\"colab-df-container\">\n",
              "      <div>\n",
              "<style scoped>\n",
              "    .dataframe tbody tr th:only-of-type {\n",
              "        vertical-align: middle;\n",
              "    }\n",
              "\n",
              "    .dataframe tbody tr th {\n",
              "        vertical-align: top;\n",
              "    }\n",
              "\n",
              "    .dataframe thead th {\n",
              "        text-align: right;\n",
              "    }\n",
              "</style>\n",
              "<table border=\"1\" class=\"dataframe\">\n",
              "  <thead>\n",
              "    <tr style=\"text-align: right;\">\n",
              "      <th></th>\n",
              "      <th>id</th>\n",
              "      <th>document</th>\n",
              "      <th>label</th>\n",
              "    </tr>\n",
              "  </thead>\n",
              "  <tbody>\n",
              "    <tr>\n",
              "      <th>0</th>\n",
              "      <td>1</td>\n",
              "      <td>영상이나 음악이 이쁘다 해도 미화시킨 불륜일뿐</td>\n",
              "      <td>0</td>\n",
              "    </tr>\n",
              "    <tr>\n",
              "      <th>1</th>\n",
              "      <td>2</td>\n",
              "      <td>히치콕이 이 영화를 봤다면 분명 박수를 쳤을듯...</td>\n",
              "      <td>1</td>\n",
              "    </tr>\n",
              "    <tr>\n",
              "      <th>2</th>\n",
              "      <td>3</td>\n",
              "      <td>괜찮은 음악영화가 또 나왔군요!!! 따뜻한 겨울이 될 것 같아요~</td>\n",
              "      <td>1</td>\n",
              "    </tr>\n",
              "  </tbody>\n",
              "</table>\n",
              "</div>\n",
              "      <button class=\"colab-df-convert\" onclick=\"convertToInteractive('df-fb7b3663-6ab4-4f54-8721-ea6f25e41017')\"\n",
              "              title=\"Convert this dataframe to an interactive table.\"\n",
              "              style=\"display:none;\">\n",
              "        \n",
              "  <svg xmlns=\"http://www.w3.org/2000/svg\" height=\"24px\"viewBox=\"0 0 24 24\"\n",
              "       width=\"24px\">\n",
              "    <path d=\"M0 0h24v24H0V0z\" fill=\"none\"/>\n",
              "    <path d=\"M18.56 5.44l.94 2.06.94-2.06 2.06-.94-2.06-.94-.94-2.06-.94 2.06-2.06.94zm-11 1L8.5 8.5l.94-2.06 2.06-.94-2.06-.94L8.5 2.5l-.94 2.06-2.06.94zm10 10l.94 2.06.94-2.06 2.06-.94-2.06-.94-.94-2.06-.94 2.06-2.06.94z\"/><path d=\"M17.41 7.96l-1.37-1.37c-.4-.4-.92-.59-1.43-.59-.52 0-1.04.2-1.43.59L10.3 9.45l-7.72 7.72c-.78.78-.78 2.05 0 2.83L4 21.41c.39.39.9.59 1.41.59.51 0 1.02-.2 1.41-.59l7.78-7.78 2.81-2.81c.8-.78.8-2.07 0-2.86zM5.41 20L4 18.59l7.72-7.72 1.47 1.35L5.41 20z\"/>\n",
              "  </svg>\n",
              "      </button>\n",
              "      \n",
              "  <style>\n",
              "    .colab-df-container {\n",
              "      display:flex;\n",
              "      flex-wrap:wrap;\n",
              "      gap: 12px;\n",
              "    }\n",
              "\n",
              "    .colab-df-convert {\n",
              "      background-color: #E8F0FE;\n",
              "      border: none;\n",
              "      border-radius: 50%;\n",
              "      cursor: pointer;\n",
              "      display: none;\n",
              "      fill: #1967D2;\n",
              "      height: 32px;\n",
              "      padding: 0 0 0 0;\n",
              "      width: 32px;\n",
              "    }\n",
              "\n",
              "    .colab-df-convert:hover {\n",
              "      background-color: #E2EBFA;\n",
              "      box-shadow: 0px 1px 2px rgba(60, 64, 67, 0.3), 0px 1px 3px 1px rgba(60, 64, 67, 0.15);\n",
              "      fill: #174EA6;\n",
              "    }\n",
              "\n",
              "    [theme=dark] .colab-df-convert {\n",
              "      background-color: #3B4455;\n",
              "      fill: #D2E3FC;\n",
              "    }\n",
              "\n",
              "    [theme=dark] .colab-df-convert:hover {\n",
              "      background-color: #434B5C;\n",
              "      box-shadow: 0px 1px 3px 1px rgba(0, 0, 0, 0.15);\n",
              "      filter: drop-shadow(0px 1px 2px rgba(0, 0, 0, 0.3));\n",
              "      fill: #FFFFFF;\n",
              "    }\n",
              "  </style>\n",
              "\n",
              "      <script>\n",
              "        const buttonEl =\n",
              "          document.querySelector('#df-fb7b3663-6ab4-4f54-8721-ea6f25e41017 button.colab-df-convert');\n",
              "        buttonEl.style.display =\n",
              "          google.colab.kernel.accessAllowed ? 'block' : 'none';\n",
              "\n",
              "        async function convertToInteractive(key) {\n",
              "          const element = document.querySelector('#df-fb7b3663-6ab4-4f54-8721-ea6f25e41017');\n",
              "          const dataTable =\n",
              "            await google.colab.kernel.invokeFunction('convertToInteractive',\n",
              "                                                     [key], {});\n",
              "          if (!dataTable) return;\n",
              "\n",
              "          const docLinkHtml = 'Like what you see? Visit the ' +\n",
              "            '<a target=\"_blank\" href=https://colab.research.google.com/notebooks/data_table.ipynb>data table notebook</a>'\n",
              "            + ' to learn more about interactive tables.';\n",
              "          element.innerHTML = '';\n",
              "          dataTable['output_type'] = 'display_data';\n",
              "          await google.colab.output.renderOutput(dataTable, element);\n",
              "          const docLink = document.createElement('div');\n",
              "          docLink.innerHTML = docLinkHtml;\n",
              "          element.appendChild(docLink);\n",
              "        }\n",
              "      </script>\n",
              "    </div>\n",
              "  </div>\n",
              "  "
            ],
            "text/plain": [
              "   id                              document  label\n",
              "0   1             영상이나 음악이 이쁘다 해도 미화시킨 불륜일뿐      0\n",
              "1   2          히치콕이 이 영화를 봤다면 분명 박수를 쳤을듯...      1\n",
              "2   3  괜찮은 음악영화가 또 나왔군요!!! 따뜻한 겨울이 될 것 같아요~      1"
            ]
          },
          "metadata": {},
          "execution_count": 4
        }
      ]
    },
    {
      "cell_type": "code",
      "source": [
        "test.head(3)"
      ],
      "metadata": {
        "colab": {
          "base_uri": "https://localhost:8080/",
          "height": 143
        },
        "id": "LVvD9ZVtXWaC",
        "outputId": "5fbbd32b-7169-42b6-e91d-594c7da095b3"
      },
      "execution_count": null,
      "outputs": [
        {
          "output_type": "execute_result",
          "data": {
            "text/html": [
              "\n",
              "  <div id=\"df-d93f6e1e-668e-49a4-a617-e459fe8a670f\">\n",
              "    <div class=\"colab-df-container\">\n",
              "      <div>\n",
              "<style scoped>\n",
              "    .dataframe tbody tr th:only-of-type {\n",
              "        vertical-align: middle;\n",
              "    }\n",
              "\n",
              "    .dataframe tbody tr th {\n",
              "        vertical-align: top;\n",
              "    }\n",
              "\n",
              "    .dataframe thead th {\n",
              "        text-align: right;\n",
              "    }\n",
              "</style>\n",
              "<table border=\"1\" class=\"dataframe\">\n",
              "  <thead>\n",
              "    <tr style=\"text-align: right;\">\n",
              "      <th></th>\n",
              "      <th>id</th>\n",
              "      <th>document</th>\n",
              "    </tr>\n",
              "  </thead>\n",
              "  <tbody>\n",
              "    <tr>\n",
              "      <th>0</th>\n",
              "      <td>1</td>\n",
              "      <td>시간 때우기 좋은 영화 지루함</td>\n",
              "    </tr>\n",
              "    <tr>\n",
              "      <th>1</th>\n",
              "      <td>2</td>\n",
              "      <td>훈훈한 정이 느껴지는 영화! 가족끼리 드라마 보듯이 보면 딱~!</td>\n",
              "    </tr>\n",
              "    <tr>\n",
              "      <th>2</th>\n",
              "      <td>3</td>\n",
              "      <td>Childhood fantasy</td>\n",
              "    </tr>\n",
              "  </tbody>\n",
              "</table>\n",
              "</div>\n",
              "      <button class=\"colab-df-convert\" onclick=\"convertToInteractive('df-d93f6e1e-668e-49a4-a617-e459fe8a670f')\"\n",
              "              title=\"Convert this dataframe to an interactive table.\"\n",
              "              style=\"display:none;\">\n",
              "        \n",
              "  <svg xmlns=\"http://www.w3.org/2000/svg\" height=\"24px\"viewBox=\"0 0 24 24\"\n",
              "       width=\"24px\">\n",
              "    <path d=\"M0 0h24v24H0V0z\" fill=\"none\"/>\n",
              "    <path d=\"M18.56 5.44l.94 2.06.94-2.06 2.06-.94-2.06-.94-.94-2.06-.94 2.06-2.06.94zm-11 1L8.5 8.5l.94-2.06 2.06-.94-2.06-.94L8.5 2.5l-.94 2.06-2.06.94zm10 10l.94 2.06.94-2.06 2.06-.94-2.06-.94-.94-2.06-.94 2.06-2.06.94z\"/><path d=\"M17.41 7.96l-1.37-1.37c-.4-.4-.92-.59-1.43-.59-.52 0-1.04.2-1.43.59L10.3 9.45l-7.72 7.72c-.78.78-.78 2.05 0 2.83L4 21.41c.39.39.9.59 1.41.59.51 0 1.02-.2 1.41-.59l7.78-7.78 2.81-2.81c.8-.78.8-2.07 0-2.86zM5.41 20L4 18.59l7.72-7.72 1.47 1.35L5.41 20z\"/>\n",
              "  </svg>\n",
              "      </button>\n",
              "      \n",
              "  <style>\n",
              "    .colab-df-container {\n",
              "      display:flex;\n",
              "      flex-wrap:wrap;\n",
              "      gap: 12px;\n",
              "    }\n",
              "\n",
              "    .colab-df-convert {\n",
              "      background-color: #E8F0FE;\n",
              "      border: none;\n",
              "      border-radius: 50%;\n",
              "      cursor: pointer;\n",
              "      display: none;\n",
              "      fill: #1967D2;\n",
              "      height: 32px;\n",
              "      padding: 0 0 0 0;\n",
              "      width: 32px;\n",
              "    }\n",
              "\n",
              "    .colab-df-convert:hover {\n",
              "      background-color: #E2EBFA;\n",
              "      box-shadow: 0px 1px 2px rgba(60, 64, 67, 0.3), 0px 1px 3px 1px rgba(60, 64, 67, 0.15);\n",
              "      fill: #174EA6;\n",
              "    }\n",
              "\n",
              "    [theme=dark] .colab-df-convert {\n",
              "      background-color: #3B4455;\n",
              "      fill: #D2E3FC;\n",
              "    }\n",
              "\n",
              "    [theme=dark] .colab-df-convert:hover {\n",
              "      background-color: #434B5C;\n",
              "      box-shadow: 0px 1px 3px 1px rgba(0, 0, 0, 0.15);\n",
              "      filter: drop-shadow(0px 1px 2px rgba(0, 0, 0, 0.3));\n",
              "      fill: #FFFFFF;\n",
              "    }\n",
              "  </style>\n",
              "\n",
              "      <script>\n",
              "        const buttonEl =\n",
              "          document.querySelector('#df-d93f6e1e-668e-49a4-a617-e459fe8a670f button.colab-df-convert');\n",
              "        buttonEl.style.display =\n",
              "          google.colab.kernel.accessAllowed ? 'block' : 'none';\n",
              "\n",
              "        async function convertToInteractive(key) {\n",
              "          const element = document.querySelector('#df-d93f6e1e-668e-49a4-a617-e459fe8a670f');\n",
              "          const dataTable =\n",
              "            await google.colab.kernel.invokeFunction('convertToInteractive',\n",
              "                                                     [key], {});\n",
              "          if (!dataTable) return;\n",
              "\n",
              "          const docLinkHtml = 'Like what you see? Visit the ' +\n",
              "            '<a target=\"_blank\" href=https://colab.research.google.com/notebooks/data_table.ipynb>data table notebook</a>'\n",
              "            + ' to learn more about interactive tables.';\n",
              "          element.innerHTML = '';\n",
              "          dataTable['output_type'] = 'display_data';\n",
              "          await google.colab.output.renderOutput(dataTable, element);\n",
              "          const docLink = document.createElement('div');\n",
              "          docLink.innerHTML = docLinkHtml;\n",
              "          element.appendChild(docLink);\n",
              "        }\n",
              "      </script>\n",
              "    </div>\n",
              "  </div>\n",
              "  "
            ],
            "text/plain": [
              "   id                             document\n",
              "0   1                     시간 때우기 좋은 영화 지루함\n",
              "1   2  훈훈한 정이 느껴지는 영화! 가족끼리 드라마 보듯이 보면 딱~!\n",
              "2   3                    Childhood fantasy"
            ]
          },
          "metadata": {},
          "execution_count": 5
        }
      ]
    },
    {
      "cell_type": "code",
      "source": [
        "train.shape, test.shape"
      ],
      "metadata": {
        "colab": {
          "base_uri": "https://localhost:8080/"
        },
        "id": "oAKqkNGyXKXC",
        "outputId": "fdc2c852-a89a-4378-e9d5-90e13804cd11"
      },
      "execution_count": null,
      "outputs": [
        {
          "output_type": "execute_result",
          "data": {
            "text/plain": [
              "((5000, 3), (5000, 2))"
            ]
          },
          "metadata": {},
          "execution_count": 6
        }
      ]
    },
    {
      "cell_type": "markdown",
      "source": [
        "훈련셋, 테스트셋 각각 5000건의 데이터가 있다."
      ],
      "metadata": {
        "id": "A9_gLskGXPjK"
      }
    },
    {
      "cell_type": "markdown",
      "source": [
        "---"
      ],
      "metadata": {
        "id": "ZINkFPshXfAJ"
      }
    },
    {
      "cell_type": "markdown",
      "source": [
        "# 2. EDA 및 전처리\n",
        "\n"
      ],
      "metadata": {
        "id": "P9RPBsM0Xg06"
      }
    },
    {
      "cell_type": "markdown",
      "source": [
        "## 결측치 확인"
      ],
      "metadata": {
        "id": "OecWr9x4Xq8R"
      }
    },
    {
      "cell_type": "code",
      "source": [
        "train.info()"
      ],
      "metadata": {
        "colab": {
          "base_uri": "https://localhost:8080/"
        },
        "id": "T7YpVuESXOqJ",
        "outputId": "40f34f7e-eade-46cd-de84-3a6b509779de"
      },
      "execution_count": null,
      "outputs": [
        {
          "output_type": "stream",
          "name": "stdout",
          "text": [
            "<class 'pandas.core.frame.DataFrame'>\n",
            "RangeIndex: 5000 entries, 0 to 4999\n",
            "Data columns (total 3 columns):\n",
            " #   Column    Non-Null Count  Dtype \n",
            "---  ------    --------------  ----- \n",
            " 0   id        5000 non-null   int64 \n",
            " 1   document  5000 non-null   object\n",
            " 2   label     5000 non-null   int64 \n",
            "dtypes: int64(2), object(1)\n",
            "memory usage: 117.3+ KB\n"
          ]
        }
      ]
    },
    {
      "cell_type": "code",
      "source": [
        "test.info()"
      ],
      "metadata": {
        "colab": {
          "base_uri": "https://localhost:8080/"
        },
        "id": "v4RO8OINXu_R",
        "outputId": "30a2f6c9-e7dd-4aa8-9ddb-da8fd86556d8"
      },
      "execution_count": null,
      "outputs": [
        {
          "output_type": "stream",
          "name": "stdout",
          "text": [
            "<class 'pandas.core.frame.DataFrame'>\n",
            "RangeIndex: 5000 entries, 0 to 4999\n",
            "Data columns (total 2 columns):\n",
            " #   Column    Non-Null Count  Dtype \n",
            "---  ------    --------------  ----- \n",
            " 0   id        5000 non-null   int64 \n",
            " 1   document  5000 non-null   object\n",
            "dtypes: int64(1), object(1)\n",
            "memory usage: 78.2+ KB\n"
          ]
        }
      ]
    },
    {
      "cell_type": "code",
      "source": [
        "train.isna().sum()"
      ],
      "metadata": {
        "colab": {
          "base_uri": "https://localhost:8080/"
        },
        "id": "1hxI2wVLXw5h",
        "outputId": "eb75257c-5037-4c23-a9e3-98082b163226"
      },
      "execution_count": null,
      "outputs": [
        {
          "output_type": "execute_result",
          "data": {
            "text/plain": [
              "id          0\n",
              "document    0\n",
              "label       0\n",
              "dtype: int64"
            ]
          },
          "metadata": {},
          "execution_count": 69
        }
      ]
    },
    {
      "cell_type": "code",
      "source": [
        "test.isna().sum()"
      ],
      "metadata": {
        "colab": {
          "base_uri": "https://localhost:8080/"
        },
        "id": "ZgubdFwbX1RZ",
        "outputId": "29fb113a-99aa-4e02-d28a-67207dd15d3e"
      },
      "execution_count": null,
      "outputs": [
        {
          "output_type": "execute_result",
          "data": {
            "text/plain": [
              "id          0\n",
              "document    0\n",
              "dtype: int64"
            ]
          },
          "metadata": {},
          "execution_count": 70
        }
      ]
    },
    {
      "cell_type": "markdown",
      "source": [
        "## 중복값 확인"
      ],
      "metadata": {
        "id": "x8bkhN9GYFV5"
      }
    },
    {
      "cell_type": "code",
      "source": [
        "len(train['document'].unique()), len(test['document'].unique())"
      ],
      "metadata": {
        "colab": {
          "base_uri": "https://localhost:8080/"
        },
        "id": "xMBSoXaqX2lp",
        "outputId": "beae9d35-cbfa-40fd-8d9c-e8d774ceedaf"
      },
      "execution_count": null,
      "outputs": [
        {
          "output_type": "execute_result",
          "data": {
            "text/plain": [
              "(5000, 4999)"
            ]
          },
          "metadata": {},
          "execution_count": 7
        }
      ]
    },
    {
      "cell_type": "markdown",
      "source": [
        " test document열에 대하여 5000개의 리뷰 중 4999개가 출력 되었습니다. 이는 하나의 중복 샘플이 존재한다는 의미입니다. 하지만 우리는 test 데이터의 결과를 예측하는 문제이기 때문에 제거하지 않고 진행을 할 것입니다."
      ],
      "metadata": {
        "id": "ZRyJK4wVY3Dj"
      }
    },
    {
      "cell_type": "code",
      "source": [
        "len(train['label'].unique()) #고유값 : 0,1"
      ],
      "metadata": {
        "colab": {
          "base_uri": "https://localhost:8080/"
        },
        "id": "myyww1_8YK9x",
        "outputId": "b10a950e-a821-4bb5-bc46-efbfc264a51f"
      },
      "execution_count": null,
      "outputs": [
        {
          "output_type": "execute_result",
          "data": {
            "text/plain": [
              "2"
            ]
          },
          "metadata": {},
          "execution_count": 8
        }
      ]
    },
    {
      "cell_type": "markdown",
      "source": [
        "## 데이터 분포"
      ],
      "metadata": {
        "id": "beCbifWwZBCR"
      }
    },
    {
      "cell_type": "code",
      "source": [
        "train['label'].value_counts()"
      ],
      "metadata": {
        "colab": {
          "base_uri": "https://localhost:8080/"
        },
        "id": "MNJzLZRfYzz5",
        "outputId": "48eee93d-e420-4576-c8a9-e55d2327aa3c"
      },
      "execution_count": null,
      "outputs": [
        {
          "output_type": "execute_result",
          "data": {
            "text/plain": [
              "0    2564\n",
              "1    2436\n",
              "Name: label, dtype: int64"
            ]
          },
          "metadata": {},
          "execution_count": 73
        }
      ]
    },
    {
      "cell_type": "code",
      "source": [
        "train['label'].value_counts().plot(kind='bar')"
      ],
      "metadata": {
        "colab": {
          "base_uri": "https://localhost:8080/",
          "height": 280
        },
        "id": "iN1gO5vtZJvB",
        "outputId": "bfd669d7-c39a-4111-d958-075ee0de5d15"
      },
      "execution_count": null,
      "outputs": [
        {
          "output_type": "execute_result",
          "data": {
            "text/plain": [
              "<matplotlib.axes._subplots.AxesSubplot at 0x7fd6d27e4310>"
            ]
          },
          "metadata": {},
          "execution_count": 74
        },
        {
          "output_type": "display_data",
          "data": {
            "image/png": "[encoded data removed]",
            "text/plain": [
              "<Figure size 432x288 with 1 Axes>"
            ]
          },
          "metadata": {
            "needs_background": "light"
          }
        }
      ]
    },
    {
      "cell_type": "markdown",
      "source": [
        "데이터가 균등하게 분포하는 모습이다. "
      ],
      "metadata": {
        "id": "lnjfMqg2ZURL"
      }
    },
    {
      "cell_type": "markdown",
      "source": [
        "## 정규표현식을 통한 전처리\n",
        "- 한글만 남기고 특수문자를 제거해야함.\n",
        "\n",
        "한글\t코드 범위\n",
        "- ㄱ ~ ㅎ\t0x3131 ~ 0x314e\n",
        "- ㅏ ~ ㅣ\t0x314f ~ 0x3163\n",
        "- 가 ~ 힣\t0xac00 ~ 0xd7a3\n"
      ],
      "metadata": {
        "id": "p2NLmZF9Zci6"
      }
    },
    {
      "cell_type": "code",
      "source": [
        "train['document'][20:40]"
      ],
      "metadata": {
        "colab": {
          "base_uri": "https://localhost:8080/"
        },
        "id": "7WNLY3n0tNd4",
        "outputId": "d34177e1-8da0-44db-93c7-a5831deb41a3"
      },
      "execution_count": null,
      "outputs": [
        {
          "output_type": "execute_result",
          "data": {
            "text/plain": [
              "20              처절한 영화, 슬픈 영화, 씁쓸-한 영화...\n",
              "21         처음부터 끝까지 유치 하기 그지 없다....난해한 영화\n",
              "22                  전쟁? 아이들의 목소리가 참 거슬린다.\n",
              "23          멋진 상상력! 아름다운 영화. 여배우 소이의 재발견!\n",
              "24                       그 시대엔 이 영화가 최고였음\n",
              "25                       재미없다..애들도 싫어할듯..\n",
              "26               initiation을 한글로 이니테이션이랜다\n",
              "27             개빡치게하는드라마!!질퍽거려너 토나올지경이다!!\n",
              "28               카모메,안경은 재밌었는데..이건 지루하다..\n",
              "29                  닥터후 시리즈는 뭐다??? 관심이다!!\n",
              "30           정말 아무것도 할일이 없다면 보세요. 2배속으로..\n",
              "31    현실적이지도, 그렇다고 환상적이지도 않은 불행한 로맨틱 코미디.\n",
              "32         소설을 모욕하는 영화, 추상미 자살씬만 기억에 남는다.\n",
              "33                    ..... 이고은 잊기 울컥ㅜㅜㅜㅡ\n",
              "34                       왜 영점은없지 일점도 아까운디\n",
              "35       좋은 의도로 만들었지만 영화내에선 그 의도를 느낄수 없다.\n",
              "36           눈물흘리면서 봤습니다. 그리스도인들에게 추천합니다!\n",
              "37                 ㅋㅋㅋ역시 피터잭슨 ㅋㅋㅋ완전재밌어 ㅋㅋ\n",
              "38        영화평점 작성하신분들 왜케 웃김ㅋㅋㅋ보다가 빵터졌어요ㅋㅋ\n",
              "39            재밌었어요 스릴도 있었구요 액션신이 기억에 남아요\n",
              "Name: document, dtype: object"
            ]
          },
          "metadata": {},
          "execution_count": 21
        }
      ]
    },
    {
      "cell_type": "code",
      "source": [
        "train['document'] = train['document'].str.replace('[^ㄱ-ㅎㅏ-ㅣ가-힣 ]', '')\n",
        "test['document'] = test['document'].str.replace('[^ㄱ-ㅎㅏ-ㅣ가-힣 ]', '')"
      ],
      "metadata": {
        "id": "Ya9EnOrQZN_5"
      },
      "execution_count": null,
      "outputs": []
    },
    {
      "cell_type": "code",
      "source": [
        "train['document'][20:40]"
      ],
      "metadata": {
        "colab": {
          "base_uri": "https://localhost:8080/"
        },
        "id": "L5LanyEkaHiC",
        "outputId": "e7b1bf03-2b8a-431b-a725-8d611c01f82a"
      },
      "execution_count": null,
      "outputs": [
        {
          "output_type": "execute_result",
          "data": {
            "text/plain": [
              "20                  처절한 영화 슬픈 영화 씁쓸한 영화\n",
              "21           처음부터 끝까지 유치 하기 그지 없다난해한 영화\n",
              "22                  전쟁 아이들의 목소리가 참 거슬린다\n",
              "23           멋진 상상력 아름다운 영화 여배우 소이의 재발견\n",
              "24                     그 시대엔 이 영화가 최고였음\n",
              "25                         재미없다애들도 싫어할듯\n",
              "26                       을 한글로 이니테이션이랜다\n",
              "27               개빡치게하는드라마질퍽거려너 토나올지경이다\n",
              "28                  카모메안경은 재밌었는데이건 지루하다\n",
              "29                     닥터후 시리즈는 뭐다 관심이다\n",
              "30             정말 아무것도 할일이 없다면 보세요 배속으로\n",
              "31    현실적이지도 그렇다고 환상적이지도 않은 불행한 로맨틱 코미디\n",
              "32         소설을 모욕하는 영화 추상미 자살씬만 기억에 남는다\n",
              "33                        이고은 잊기 울컥ㅜㅜㅜㅡ\n",
              "34                     왜 영점은없지 일점도 아까운디\n",
              "35      좋은 의도로 만들었지만 영화내에선 그 의도를 느낄수 없다\n",
              "36           눈물흘리면서 봤습니다 그리스도인들에게 추천합니다\n",
              "37               ㅋㅋㅋ역시 피터잭슨 ㅋㅋㅋ완전재밌어 ㅋㅋ\n",
              "38      영화평점 작성하신분들 왜케 웃김ㅋㅋㅋ보다가 빵터졌어요ㅋㅋ\n",
              "39          재밌었어요 스릴도 있었구요 액션신이 기억에 남아요\n",
              "Name: document, dtype: object"
            ]
          },
          "metadata": {},
          "execution_count": 23
        }
      ]
    },
    {
      "cell_type": "code",
      "source": [
        "test['document'][:5]"
      ],
      "metadata": {
        "colab": {
          "base_uri": "https://localhost:8080/"
        },
        "id": "V5kSqXy2aFXB",
        "outputId": "6b1ade68-7c83-400e-b7d3-752347337f5c"
      },
      "execution_count": null,
      "outputs": [
        {
          "output_type": "execute_result",
          "data": {
            "text/plain": [
              "0                    시간 때우기 좋은 영화 지루함\n",
              "1    훈훈한 정이 느껴지는 영화 가족끼리 드라마 보듯이 보면 딱\n",
              "2                                    \n",
              "3                   멋있는 영화입니다 잊을 수 없는\n",
              "4                  너무 감동적이네요 펑펑 울었습니다\n",
              "Name: document, dtype: object"
            ]
          },
          "metadata": {},
          "execution_count": 25
        }
      ]
    },
    {
      "cell_type": "markdown",
      "source": [
        "### 특수기호는 사라졌는데 영어로쓴 리뷰도 사라졌는데 문제가 되지 않을까?"
      ],
      "metadata": {
        "id": "vUo9A91saYpp"
      }
    },
    {
      "cell_type": "markdown",
      "source": [
        "# 3. 토큰화\n",
        "토큰화 과정에서 불용어를 제거해보자.\n",
        "불용어는 의미가 없는 단어니다. 사용자 정의에 따라 더 다양한 불용어를 사용할 수 있다.\n",
        "파이썬 한국어 형태소 분석 패키지인 KoNLPy가 있는데 이 안에 여러 종류의 한국어 형태소 분석기가 있습니다. 그 중에 OKt 형태소 분석기를 사용하여 제거하였다.\n",
        "\n",
        "- 형태소 분석기 OKt(Open Korean Text)  \n",
        " - 트위터에서 만든 오픈소스 한국어 처리기인 twitter-korean-text를 이어받아 만들고 있는 프로젝트의 분석기\n",
        " - 단어들을 알아서 정규화 해주고, 오타도 수정해주는 기능을 가지고 있다"
      ],
      "metadata": {
        "id": "gyXj4NGRagLw"
      }
    },
    {
      "cell_type": "code",
      "source": [
        "stopwords = ['의','가','이','은','들','는','좀','잘','걍','과','도','를','으로','자','에','와','한','하다']"
      ],
      "metadata": {
        "id": "W4nIBQCwaODR"
      },
      "execution_count": null,
      "outputs": []
    },
    {
      "cell_type": "code",
      "source": [
        "!pip install konlpy"
      ],
      "metadata": {
        "colab": {
          "base_uri": "https://localhost:8080/"
        },
        "id": "26xc1ISMLUWU",
        "outputId": "32562491-65fa-4d72-cbad-ed7c7cf4b512"
      },
      "execution_count": null,
      "outputs": [
        {
          "output_type": "stream",
          "name": "stdout",
          "text": [
            "Collecting konlpy\n",
            "  Downloading konlpy-0.6.0-py2.py3-none-any.whl (19.4 MB)\n",
            "\u001b[K     |████████████████████████████████| 19.4 MB 1.5 MB/s \n",
            "\u001b[?25hRequirement already satisfied: lxml>=4.1.0 in /usr/local/lib/python3.7/dist-packages (from konlpy) (4.2.6)\n",
            "Collecting JPype1>=0.7.0\n",
            "  Downloading JPype1-1.3.0-cp37-cp37m-manylinux_2_5_x86_64.manylinux1_x86_64.whl (448 kB)\n",
            "\u001b[K     |████████████████████████████████| 448 kB 49.3 MB/s \n",
            "\u001b[?25hRequirement already satisfied: numpy>=1.6 in /usr/local/lib/python3.7/dist-packages (from konlpy) (1.19.5)\n",
            "Requirement already satisfied: typing-extensions in /usr/local/lib/python3.7/dist-packages (from JPype1>=0.7.0->konlpy) (3.10.0.2)\n",
            "Installing collected packages: JPype1, konlpy\n",
            "Successfully installed JPype1-1.3.0 konlpy-0.6.0\n"
          ]
        }
      ]
    },
    {
      "cell_type": "code",
      "source": [
        "from tqdm import tqdm\n",
        "from konlpy.tag import Okt\n",
        "okt = Okt()"
      ],
      "metadata": {
        "id": "vyu8nSFoL4EF"
      },
      "execution_count": null,
      "outputs": []
    },
    {
      "cell_type": "markdown",
      "source": [
        "불용어 처리과정"
      ],
      "metadata": {
        "id": "xbk-BWCENuRf"
      }
    },
    {
      "cell_type": "code",
      "source": [
        "sentence = \"괜찮은 음악영화가 또 나왔군요 따뜻한 겨울이 될 것 같아요\"\n",
        "\n",
        "print('1:', sentence)\n",
        "tokenized_sentence = okt.morphs(sentence, stem=True)  # 토큰화 - 텍스트를 형태소 단위로 나눈다. stem은 각 단어에서 어간을 추출, '괜찮은' 어간인 괜찮다로 추출\n",
        "print('2:', tokenized_sentence)\n",
        "tokenized_sentence = okt.morphs(sentence, stem=False)  # 토큰화\n",
        "print('3:', tokenized_sentence)\n",
        "stopwords_removed_sentence = [word for word in tokenized_sentence if not word in stopwords] # 불용어를 제거한 문장\n",
        "print('4:', stopwords_removed_sentence)"
      ],
      "metadata": {
        "colab": {
          "base_uri": "https://localhost:8080/"
        },
        "id": "S-2T6uoyNrHA",
        "outputId": "e8f1c4a7-cf01-4a14-a0da-bd4fd9acc929"
      },
      "execution_count": null,
      "outputs": [
        {
          "output_type": "stream",
          "name": "stdout",
          "text": [
            "1: 괜찮은 음악영화가 또 나왔군요 따뜻한 겨울이 될 것 같아요\n",
            "2: ['괜찮다', '음악', '영화', '가', '또', '나오다', '따뜻하다', '겨울', '이', '되다', '것', '같다']\n",
            "3: ['괜찮은', '음악', '영화', '가', '또', '나왔군요', '따뜻한', '겨울', '이', '될', '것', '같아요']\n",
            "4: ['괜찮은', '음악', '영화', '또', '나왔군요', '따뜻한', '겨울', '될', '것', '같아요']\n"
          ]
        }
      ]
    },
    {
      "cell_type": "code",
      "source": [
        "X_train = []\n",
        "okt = Okt()\n",
        "for sentence in tqdm(train['document']): # document 문장을 가져와서\n",
        "    tokenized_sentence = okt.morphs(sentence, stem=True)  # 토큰화\n",
        "    stopwords_removed_sentence = [word for word in tokenized_sentence if not word in stopwords] # 불용어 제거\n",
        "    X_train.append(stopwords_removed_sentence) "
      ],
      "metadata": {
        "colab": {
          "base_uri": "https://localhost:8080/"
        },
        "id": "fKIFVUulNoTU",
        "outputId": "3cd61518-7d27-4b2a-8b5e-ace7d0c36017"
      },
      "execution_count": null,
      "outputs": [
        {
          "output_type": "stream",
          "name": "stderr",
          "text": [
            "100%|██████████| 5000/5000 [00:21<00:00, 231.32it/s]\n"
          ]
        }
      ]
    },
    {
      "cell_type": "code",
      "source": [
        "print(X_train[:3])"
      ],
      "metadata": {
        "colab": {
          "base_uri": "https://localhost:8080/"
        },
        "id": "ukXMbKojNxOD",
        "outputId": "e31966a1-1124-4473-f081-40881919febf"
      },
      "execution_count": null,
      "outputs": [
        {
          "output_type": "stream",
          "name": "stdout",
          "text": [
            "[['영상', '이나', '음악', '이쁘다', '해도', '미화', '시키다', '불륜', '일', '뿐'], ['히치콕', '영화', '보다', '분명', '박수', '치다'], ['괜찮다', '음악', '영화', '또', '나오다', '따뜻하다', '겨울', '되다', '것', '같다']]\n"
          ]
        }
      ]
    },
    {
      "cell_type": "markdown",
      "source": [
        "test 데이터에도 같은 작업 반복"
      ],
      "metadata": {
        "id": "av9M-3RiSJXb"
      }
    },
    {
      "cell_type": "code",
      "source": [
        "X_test = []\n",
        "for sentence in tqdm(test['document']):\n",
        "    tokenized_sentence = okt.morphs(sentence, stem=True) # 토큰화\n",
        "    stopwords_removed_sentence = [word for word in tokenized_sentence if not word in stopwords] # 불용어 제거\n",
        "    X_test.append(stopwords_removed_sentence)"
      ],
      "metadata": {
        "colab": {
          "base_uri": "https://localhost:8080/"
        },
        "id": "oC6SonA7NxLH",
        "outputId": "32566318-faff-49db-8f8b-1c7e512ffff8"
      },
      "execution_count": null,
      "outputs": [
        {
          "output_type": "stream",
          "name": "stderr",
          "text": [
            "100%|██████████| 5000/5000 [00:10<00:00, 466.81it/s]\n"
          ]
        }
      ]
    },
    {
      "cell_type": "markdown",
      "source": [
        "# 정수 인코딩\n",
        "- 텍스트를 숫자로 바꾸는 기법"
      ],
      "metadata": {
        "id": "VJEj9dwGSYDw"
      }
    },
    {
      "cell_type": "code",
      "source": [
        "from tensorflow.keras.preprocessing.text import Tokenizer\n",
        "from tensorflow.keras.preprocessing.sequence import pad_sequences\n",
        "tokenizer = Tokenizer()\n",
        "tokenizer.fit_on_texts(X_train) # 단어 인덱스 구축"
      ],
      "metadata": {
        "id": "-GlGIAMQNxHr"
      },
      "execution_count": null,
      "outputs": []
    },
    {
      "cell_type": "code",
      "source": [
        "# 단어 mapping 기준은 단어 빈도수 - 자주 나온단어가 1번\n",
        "print(len(tokenizer.word_index))\n",
        "for key, rank in tokenizer.word_index.items():\n",
        "    print(\"{} : {}\".format(rank, key))\n",
        "    if rank == 10:\n",
        "        break\n"
      ],
      "metadata": {
        "colab": {
          "base_uri": "https://localhost:8080/"
        },
        "id": "qKlLV0l_NxEy",
        "outputId": "e47c6a8f-e880-4a96-b6f7-adb24165a3f2"
      },
      "execution_count": null,
      "outputs": [
        {
          "output_type": "stream",
          "name": "stdout",
          "text": [
            "6648\n",
            "1 : 영화\n",
            "2 : 보다\n",
            "3 : 없다\n",
            "4 : 을\n",
            "5 : 너무\n",
            "6 : 이다\n",
            "7 : 좋다\n",
            "8 : 정말\n",
            "9 : 재밌다\n",
            "10 : 있다\n"
          ]
        }
      ]
    },
    {
      "cell_type": "markdown",
      "source": [
        "등장 빈도수가 낮은 단어가 얼마나 있는지 파악하고 제거 여부를 생각해보자"
      ],
      "metadata": {
        "id": "3eSDGtTsTArf"
      }
    },
    {
      "cell_type": "code",
      "source": [
        "for key, value in tokenizer.word_counts.items():\n",
        "    print(key)\n",
        "    print(value)\n",
        "    break"
      ],
      "metadata": {
        "colab": {
          "base_uri": "https://localhost:8080/"
        },
        "id": "cpA9Fta5T0cW",
        "outputId": "6c0c012e-55ca-46ed-ebbf-bc1f0f7ad6ad"
      },
      "execution_count": null,
      "outputs": [
        {
          "output_type": "stream",
          "name": "stdout",
          "text": [
            "영상\n",
            "26\n"
          ]
        }
      ]
    },
    {
      "cell_type": "code",
      "source": [
        "threshold = 3\n",
        "total_cnt = len(tokenizer.word_index) # 단어의 수 = 6648개\n",
        "rare_cnt = 0 # 등장 빈도수가 threshold보다 작은 단어의 개수를 카운트\n",
        "total_freq = 0 # 훈련 데이터의 전체 단어 빈도수 총 합\n",
        "rare_freq = 0 # 등장 빈도수가 threshold보다 작은 단어의 등장 빈도수의 총 합\n",
        "\n",
        "# 단어와 빈도수의 쌍(pair)을 key와 value로 받는다.\n",
        "for key, value in tokenizer.word_counts.items():\n",
        "    total_freq = total_freq + value \n",
        "    \n",
        "    # 단어의 등장 빈도수가 threshold보다 작으면\n",
        "    if(value < threshold):\n",
        "        rare_cnt = rare_cnt + 1 # 카운트\n",
        "        rare_freq = rare_freq + value\n",
        "\n",
        "print('단어 집합(vocabulary)의 크기 :',total_cnt)\n",
        "print('등장 빈도가 %s번 이하인 희귀 단어의 수: %s'%(threshold - 1, rare_cnt))\n",
        "print(\"단어 집합에서 희귀 단어의 비율:\", (rare_cnt / total_cnt)*100)\n",
        "print(\"전체 등장 빈도에서 희귀 단어 등장 빈도 비율:\", (rare_freq / total_freq)*100)"
      ],
      "metadata": {
        "colab": {
          "base_uri": "https://localhost:8080/"
        },
        "id": "CiaZ_rTtNxBR",
        "outputId": "f2aa6c98-65bc-4b15-9a94-26a56c7082f1"
      },
      "execution_count": null,
      "outputs": [
        {
          "output_type": "stream",
          "name": "stdout",
          "text": [
            "단어 집합(vocabulary)의 크기 : 6648\n",
            "등장 빈도가 2번 이하인 희귀 단어의 수: 4640\n",
            "단어 집합에서 희귀 단어의 비율: 69.79542719614922\n",
            "전체 등장 빈도에서 희귀 단어 등장 빈도 비율: 13.715559648145007\n"
          ]
        }
      ]
    },
    {
      "cell_type": "markdown",
      "source": [
        "전체 등장 빈도에서 2번 이하인 희귀 단어 등장 빈도 비율이 13%나 되기 때문에 우리는 등장 빈도가 낮은 친구들을 삭제하지 않겠습니다. 삭제하면 많은 데이터가 삭제되기 때문입니다."
      ],
      "metadata": {
        "id": "k6XG48owUa53"
      }
    },
    {
      "cell_type": "code",
      "source": [
        "# 아무것도 삭제 안할거라서 크기는 그대로!\n",
        "vocab_size = total_cnt\n",
        "print('단어 집합의 크기 :',vocab_size)"
      ],
      "metadata": {
        "colab": {
          "base_uri": "https://localhost:8080/"
        },
        "id": "RJa2hnDKNw-e",
        "outputId": "7eb2f0c8-a995-480c-8921-2ba97f2ed7d7"
      },
      "execution_count": null,
      "outputs": [
        {
          "output_type": "stream",
          "name": "stdout",
          "text": [
            "단어 집합의 크기 : 6648\n"
          ]
        }
      ]
    },
    {
      "cell_type": "markdown",
      "source": [
        "texts_to_sequences를 이용하여 정수 시퀀스로 변환"
      ],
      "metadata": {
        "id": "L3y5e0dGUip_"
      }
    },
    {
      "cell_type": "code",
      "source": [
        "tokenizer = Tokenizer(vocab_size) # vocab_size: the maximum number of words to keep\n",
        "tokenizer.fit_on_texts(X_train)\n",
        "X_train = tokenizer.texts_to_sequences(X_train)\n",
        "X_train[:3]"
      ],
      "metadata": {
        "colab": {
          "base_uri": "https://localhost:8080/"
        },
        "id": "jMq3R_GJTC3H",
        "outputId": "9d7429dc-9f6b-49fa-c147-d58bf3f95ccf"
      },
      "execution_count": null,
      "outputs": [
        {
          "output_type": "execute_result",
          "data": {
            "text/plain": [
              "[[256, 192, 182, 238, 619, 929, 329, 930, 196, 151],\n",
              " [2009, 1, 2, 746, 931, 377],\n",
              " [148, 182, 1, 116, 25, 218, 1560, 16, 30, 21]]"
            ]
          },
          "metadata": {},
          "execution_count": 91
        }
      ]
    },
    {
      "cell_type": "code",
      "source": [
        "X_test = tokenizer.texts_to_sequences(X_test)\n",
        "X_test[:3]"
      ],
      "metadata": {
        "colab": {
          "base_uri": "https://localhost:8080/"
        },
        "id": "cT2_SxJATCtf",
        "outputId": "d9854ed6-3c05-4b1c-fc36-1cc03d64c291"
      },
      "execution_count": null,
      "outputs": [
        {
          "output_type": "execute_result",
          "data": {
            "text/plain": [
              "[[42, 723, 7, 1, 321], [791, 1204, 361, 1, 458, 1670, 47, 2, 2, 406], []]"
            ]
          },
          "metadata": {},
          "execution_count": 92
        }
      ]
    },
    {
      "cell_type": "code",
      "source": [
        "print(len(X_train)), print(len(X_test))"
      ],
      "metadata": {
        "colab": {
          "base_uri": "https://localhost:8080/"
        },
        "id": "8JGP-33CYQnj",
        "outputId": "3bd0e0cb-324e-4b32-8fd5-39f9650946ed"
      },
      "execution_count": null,
      "outputs": [
        {
          "output_type": "stream",
          "name": "stdout",
          "text": [
            "5000\n",
            "5000\n"
          ]
        },
        {
          "output_type": "execute_result",
          "data": {
            "text/plain": [
              "(None, None)"
            ]
          },
          "metadata": {},
          "execution_count": 93
        }
      ]
    },
    {
      "cell_type": "markdown",
      "source": [
        "# 패딩\n",
        "- 서로 다른 길이의 샘플들의 길이를 동일하게 맞취주는 것을 패딩이라고 합니다.\n",
        "\n",
        "- 이미지를 다루는 딥러닝에서는 패딩을 이용하여 이미지에 마치 패딩을 입은 것처럼 0 또는 지정 숫자를 둘러주어 정보의 손실을 막습니다."
      ],
      "metadata": {
        "id": "mK0YENI2YT93"
      }
    },
    {
      "cell_type": "code",
      "source": [
        "print(\"가장 긴 리뷰의 길이\",  max(len(review) for review in X_train))\n",
        "print('리뷰의 평균길이', sum(map(len, X_train))/len(X_train))"
      ],
      "metadata": {
        "colab": {
          "base_uri": "https://localhost:8080/"
        },
        "id": "TzL0GkmDYQjn",
        "outputId": "bf3d6acc-95e1-4065-e261-b28a39a3b5d6"
      },
      "execution_count": null,
      "outputs": [
        {
          "output_type": "stream",
          "name": "stdout",
          "text": [
            "가장 긴 리뷰의 길이 19\n",
            "리뷰의 평균길이 8.2532\n"
          ]
        }
      ]
    },
    {
      "cell_type": "code",
      "source": [
        "print(\"가장 긴 리뷰의 길이\",  max(len(review) for review in X_test))\n",
        "print('리뷰의 평균길이', sum(map(len, X_test))/len(X_test))"
      ],
      "metadata": {
        "colab": {
          "base_uri": "https://localhost:8080/"
        },
        "id": "8kwN0DupY74u",
        "outputId": "196fa991-bf62-4749-fb94-5f35dcb11230"
      },
      "execution_count": null,
      "outputs": [
        {
          "output_type": "stream",
          "name": "stdout",
          "text": [
            "가장 긴 리뷰의 길이 18\n",
            "리뷰의 평균길이 7.5192\n"
          ]
        }
      ]
    },
    {
      "cell_type": "markdown",
      "source": [
        "train 데이터의 리뷰의 길이 시각화"
      ],
      "metadata": {
        "id": "XcfgDQf3Y0sX"
      }
    },
    {
      "cell_type": "code",
      "source": [
        "import matplotlib.pyplot as plt\n",
        "plt.hist([len(review) for review in X_train], bins=50)\n",
        "plt.xlabel('length of samples')\n",
        "plt.ylabel('number of samples')\n",
        "plt.show()"
      ],
      "metadata": {
        "colab": {
          "base_uri": "https://localhost:8080/",
          "height": 279
        },
        "id": "keXdMBb0YQhH",
        "outputId": "8859650a-f71c-4d4d-c294-4c3d6c5274d5"
      },
      "execution_count": null,
      "outputs": [
        {
          "output_type": "display_data",
          "data": {
            "image/png": "[encoded data removed]",
            "text/plain": [
              "<Figure size 432x288 with 1 Axes>"
            ]
          },
          "metadata": {
            "needs_background": "light"
          }
        }
      ]
    },
    {
      "cell_type": "code",
      "source": [
        "# 전체 샘플 중 길이가 %s 이하인 샘플의 비율 함수 정의\n",
        "def below_threshold_len(max_len, nested_list):\n",
        "  count = 0\n",
        "  for sentence in nested_list:\n",
        "    if(len(sentence) <= max_len):\n",
        "        count = count + 1\n",
        "  print('전체 샘플 중 길이가 %s 이하인 샘플의 비율: %s'%(max_len, (count / len(nested_list))*100))"
      ],
      "metadata": {
        "id": "4QlqaMLQYQdx"
      },
      "execution_count": null,
      "outputs": []
    },
    {
      "cell_type": "code",
      "source": [
        "max_len = 15 # 임의로 설정해줌\n",
        "below_threshold_len(max_len, X_train)\n",
        "below_threshold_len(max_len, X_test)"
      ],
      "metadata": {
        "colab": {
          "base_uri": "https://localhost:8080/"
        },
        "id": "PnF0G3SwYQav",
        "outputId": "4dc347ff-0bd1-49a9-8af5-7d542bf2cd8b"
      },
      "execution_count": null,
      "outputs": [
        {
          "output_type": "stream",
          "name": "stdout",
          "text": [
            "전체 샘플 중 길이가 15 이하인 샘플의 비율: 98.98\n",
            "전체 샘플 중 길이가 15 이하인 샘플의 비율: 99.56\n"
          ]
        }
      ]
    },
    {
      "cell_type": "markdown",
      "source": [
        "샘플 중 길이가 15 이하인 샘플의 비율이 98%나 되기 때문에 15로 길이를 맞춰주어 패딩하겠습니다."
      ],
      "metadata": {
        "id": "6iYFUpCoZd4f"
      }
    },
    {
      "cell_type": "code",
      "source": [
        "X_train = pad_sequences(X_train, maxlen=max_len)\n",
        "X_test = pad_sequences(X_test, maxlen=max_len)"
      ],
      "metadata": {
        "id": "uyWeZUk8Zh50"
      },
      "execution_count": null,
      "outputs": []
    },
    {
      "cell_type": "code",
      "source": [
        "y_train = train['label']"
      ],
      "metadata": {
        "id": "3VL8Ru_sZh4G"
      },
      "execution_count": null,
      "outputs": []
    },
    {
      "cell_type": "code",
      "source": [
        "print(X_train.shape)\n",
        "print(X_test.shape)"
      ],
      "metadata": {
        "colab": {
          "base_uri": "https://localhost:8080/"
        },
        "id": "F5Q4J0pBZh0K",
        "outputId": "926c4448-b391-4a9c-d75a-d8c7cea09d2a"
      },
      "execution_count": null,
      "outputs": [
        {
          "output_type": "stream",
          "name": "stdout",
          "text": [
            "(5000, 15)\n",
            "(5000, 15)\n"
          ]
        }
      ]
    },
    {
      "cell_type": "code",
      "source": [
        "X_train[:3]"
      ],
      "metadata": {
        "colab": {
          "base_uri": "https://localhost:8080/"
        },
        "id": "11xgt_8iZhxe",
        "outputId": "5651c47e-303f-4fdb-b9ad-a0eb06b05bdb"
      },
      "execution_count": null,
      "outputs": [
        {
          "output_type": "execute_result",
          "data": {
            "text/plain": [
              "array([[   0,    0,    0,    0,    0,  256,  192,  182,  238,  619,  929,\n",
              "         329,  930,  196,  151],\n",
              "       [   0,    0,    0,    0,    0,    0,    0,    0,    0, 2009,    1,\n",
              "           2,  746,  931,  377],\n",
              "       [   0,    0,    0,    0,    0,  148,  182,    1,  116,   25,  218,\n",
              "        1560,   16,   30,   21]], dtype=int32)"
            ]
          },
          "metadata": {},
          "execution_count": 103
        }
      ]
    },
    {
      "cell_type": "markdown",
      "source": [
        "다음 X_train[:3]를 살펴봤을때 길이가 15개가 안되는 리뷰에 대하여 패딩으로 앞쪽에 0이 들어가있다"
      ],
      "metadata": {
        "id": "paxRUuEia2bV"
      }
    },
    {
      "cell_type": "markdown",
      "source": [
        "# 모델 학습하기"
      ],
      "metadata": {
        "id": "_TG5_P7ia7_e"
      }
    },
    {
      "cell_type": "markdown",
      "source": [
        "### 간단한 LSTM"
      ],
      "metadata": {
        "id": "1KonworIbDyH"
      }
    },
    {
      "cell_type": "code",
      "source": [
        "import numpy as np\n",
        "import matplotlib.pyplot as plt\n",
        "import pandas as pd\n",
        "import os.path as osp\n",
        "from konlpy.tag import Okt\n",
        "import re\n",
        "\n",
        "from tensorflow.keras.preprocessing.text import Tokenizer\n",
        "from tensorflow.keras.preprocessing.sequence import pad_sequences\n",
        "from tensorflow.keras.layers import Embedding, Dense, LSTM\n",
        "from tensorflow.keras.models import Sequential\n",
        "from tensorflow.keras.models import load_model\n",
        "from tensorflow.keras.callbacks import EarlyStopping, ModelCheckpoint"
      ],
      "metadata": {
        "id": "pT6PUk7XZhuF"
      },
      "execution_count": null,
      "outputs": []
    },
    {
      "cell_type": "code",
      "source": [
        "embedding_dim = 100\n",
        "hidden_units = 128\n",
        "\n",
        "model = Sequential()\n",
        "model.add(Embedding(vocab_size, embedding_dim))\n",
        "model.add(LSTM(hidden_units))\n",
        "model.add(Dense(1, activation='sigmoid'))\n",
        "\n",
        "es = EarlyStopping(monitor='val_loss', mode='min', verbose=1, patience=4)\n",
        "mc = ModelCheckpoint('best_model.h5', monitor='val_acc', mode='max', verbose=1, save_best_only=True)\n",
        "model.compile(optimizer='rmsprop', loss='binary_crossentropy', metrics=['acc'])\n",
        "history = model.fit(X_train, y_train, epochs=15, callbacks=[es, mc], batch_size=12, validation_split=0.2)\n"
      ],
      "metadata": {
        "colab": {
          "base_uri": "https://localhost:8080/"
        },
        "id": "Iq7hGbg9a7V0",
        "outputId": "ba1a797d-35f2-4e92-bf3b-8746ea15a82c"
      },
      "execution_count": null,
      "outputs": [
        {
          "output_type": "stream",
          "name": "stdout",
          "text": [
            "Epoch 1/15\n",
            "332/334 [============================>.] - ETA: 0s - loss: 0.4588 - acc: 0.7738\n",
            "Epoch 00001: val_acc improved from -inf to 0.82900, saving model to best_model.h5\n",
            "334/334 [==============================] - 13s 29ms/step - loss: 0.4582 - acc: 0.7740 - val_loss: 0.3573 - val_acc: 0.8290\n",
            "Epoch 2/15\n",
            "333/334 [============================>.] - ETA: 0s - loss: 0.2500 - acc: 0.8986\n",
            "Epoch 00002: val_acc improved from 0.82900 to 0.85100, saving model to best_model.h5\n",
            "334/334 [==============================] - 7s 22ms/step - loss: 0.2498 - acc: 0.8988 - val_loss: 0.3538 - val_acc: 0.8510\n",
            "Epoch 3/15\n",
            "334/334 [==============================] - ETA: 0s - loss: 0.1930 - acc: 0.9265\n",
            "Epoch 00003: val_acc improved from 0.85100 to 0.85900, saving model to best_model.h5\n",
            "334/334 [==============================] - 7s 22ms/step - loss: 0.1930 - acc: 0.9265 - val_loss: 0.3504 - val_acc: 0.8590\n",
            "Epoch 4/15\n",
            "334/334 [==============================] - ETA: 0s - loss: 0.1564 - acc: 0.9390\n",
            "Epoch 00004: val_acc improved from 0.85900 to 0.86100, saving model to best_model.h5\n",
            "334/334 [==============================] - 7s 22ms/step - loss: 0.1564 - acc: 0.9390 - val_loss: 0.3584 - val_acc: 0.8610\n",
            "Epoch 5/15\n",
            "332/334 [============================>.] - ETA: 0s - loss: 0.1322 - acc: 0.9488\n",
            "Epoch 00005: val_acc did not improve from 0.86100\n",
            "334/334 [==============================] - 7s 21ms/step - loss: 0.1319 - acc: 0.9490 - val_loss: 0.3899 - val_acc: 0.8510\n",
            "Epoch 6/15\n",
            "332/334 [============================>.] - ETA: 0s - loss: 0.1110 - acc: 0.9551\n",
            "Epoch 00006: val_acc did not improve from 0.86100\n",
            "334/334 [==============================] - 7s 22ms/step - loss: 0.1106 - acc: 0.9553 - val_loss: 0.4160 - val_acc: 0.8560\n",
            "Epoch 7/15\n",
            "332/334 [============================>.] - ETA: 0s - loss: 0.0939 - acc: 0.9636\n",
            "Epoch 00007: val_acc did not improve from 0.86100\n",
            "334/334 [==============================] - 7s 22ms/step - loss: 0.0946 - acc: 0.9635 - val_loss: 0.5033 - val_acc: 0.8410\n",
            "Epoch 00007: early stopping\n"
          ]
        }
      ]
    },
    {
      "cell_type": "code",
      "source": [
        "load_to_model = load_model('best_model.h5')\n",
        "y_pred = load_to_model.predict(X_test)\n",
        "y_pred # 0.5를 기준으로 0과 1을 분류"
      ],
      "metadata": {
        "colab": {
          "base_uri": "https://localhost:8080/"
        },
        "id": "ruwNv2I2a7Sd",
        "outputId": "a6ad9b94-3464-435b-db68-e066510e20b6"
      },
      "execution_count": null,
      "outputs": [
        {
          "output_type": "execute_result",
          "data": {
            "text/plain": [
              "array([[0.02392766],\n",
              "       [0.99336535],\n",
              "       [0.6032882 ],\n",
              "       ...,\n",
              "       [0.99988407],\n",
              "       [0.08407113],\n",
              "       [0.991274  ]], dtype=float32)"
            ]
          },
          "metadata": {},
          "execution_count": 110
        }
      ]
    },
    {
      "cell_type": "code",
      "source": [
        "for i in range(len(y_pred)):\n",
        "  if y_pred[i] < 0.5:\n",
        "    y_pred[i] = 0\n",
        "  else:\n",
        "    y_pred[i]=1\n",
        "y_pred"
      ],
      "metadata": {
        "colab": {
          "base_uri": "https://localhost:8080/"
        },
        "id": "dYDvRvpya7O3",
        "outputId": "216e9293-ac8c-460b-c3fd-edac6bc1b627"
      },
      "execution_count": null,
      "outputs": [
        {
          "output_type": "execute_result",
          "data": {
            "text/plain": [
              "array([[0.],\n",
              "       [1.],\n",
              "       [1.],\n",
              "       ...,\n",
              "       [1.],\n",
              "       [0.],\n",
              "       [1.]], dtype=float32)"
            ]
          },
          "metadata": {},
          "execution_count": 111
        }
      ]
    },
    {
      "cell_type": "code",
      "source": [
        "submission['label'] = y_pred\n",
        "submission.to_csv(\"LSTM(1).csv\", index=False) # 0.8415"
      ],
      "metadata": {
        "id": "MG-AxQQFdQL8"
      },
      "execution_count": null,
      "outputs": []
    },
    {
      "cell_type": "markdown",
      "source": [
        "X_test에 대한 긍/부정 결과가 84.15 accuracy로 무난히 나왔는데 LSTM은 딥러닝 모형이니 추가적으로 layer를 추가하였을때는 결과값이 어떻게 변하는지 살펴봅시다."
      ],
      "metadata": {
        "id": "S6pigDj3dSvP"
      }
    },
    {
      "cell_type": "markdown",
      "source": [
        "### LSTM 개선\n",
        "- layer 추가 LSTM"
      ],
      "metadata": {
        "id": "VqGfnwAPbFW_"
      }
    },
    {
      "cell_type": "code",
      "source": [
        "'''\n",
        "embedding_dim = 100\n",
        "hidden_units = 128\n",
        "\n",
        "model = Sequential()\n",
        "model.add(Embedding(vocab_size, embedding_dim))\n",
        "model.add(LSTM(hidden_units))\n",
        "model.add(Dense(1, activation='sigmoid'))\n",
        "'''\n",
        "embedding_dim = 1000\n",
        "embedding_dim2 = 64\n",
        "embedding_dim3 = 32\n",
        "hidden_units = 128\n",
        "\n",
        "model = Sequential()\n",
        "model.add(Embedding(vocab_size, embedding_dim))\n",
        "model.add(LSTM(hidden_units))\n",
        "model.add(Dense(embedding_dim2))\n",
        "model.add(Dense(embedding_dim3))\n",
        "model.add(Dense(1, activation='sigmoid'))"
      ],
      "metadata": {
        "id": "Eql3ypvQZhq3"
      },
      "execution_count": null,
      "outputs": []
    },
    {
      "cell_type": "code",
      "source": [
        "es = EarlyStopping(monitor='val_loss', mode='min', verbose=1, patience=6)\n",
        "mc = ModelCheckpoint('best_model.h5', monitor='val_acc', mode='max', verbose=1, save_best_only=True)\n",
        "model.compile(optimizer='rmsprop', loss='binary_crossentropy', metrics=['acc'])\n",
        "history = model.fit(X_train, y_train, epochs=15, callbacks=[es, mc], batch_size=12, validation_split=0.2)"
      ],
      "metadata": {
        "colab": {
          "base_uri": "https://localhost:8080/"
        },
        "id": "vgcoIxqzd9kc",
        "outputId": "f82bba0d-7572-48af-9569-f36bbf3f2b23"
      },
      "execution_count": null,
      "outputs": [
        {
          "output_type": "stream",
          "name": "stdout",
          "text": [
            "Epoch 1/15\n",
            "334/334 [==============================] - ETA: 0s - loss: 0.4062 - acc: 0.8105\n",
            "Epoch 00001: val_acc improved from -inf to 0.84200, saving model to best_model.h5\n",
            "334/334 [==============================] - 31s 84ms/step - loss: 0.4062 - acc: 0.8105 - val_loss: 0.3422 - val_acc: 0.8420\n",
            "Epoch 2/15\n",
            "334/334 [==============================] - ETA: 0s - loss: 0.2029 - acc: 0.9208\n",
            "Epoch 00002: val_acc improved from 0.84200 to 0.85500, saving model to best_model.h5\n",
            "334/334 [==============================] - 27s 81ms/step - loss: 0.2029 - acc: 0.9208 - val_loss: 0.3792 - val_acc: 0.8550\n",
            "Epoch 3/15\n",
            "334/334 [==============================] - ETA: 0s - loss: 0.1374 - acc: 0.9477\n",
            "Epoch 00003: val_acc improved from 0.85500 to 0.85600, saving model to best_model.h5\n",
            "334/334 [==============================] - 27s 80ms/step - loss: 0.1374 - acc: 0.9477 - val_loss: 0.4070 - val_acc: 0.8560\n",
            "Epoch 4/15\n",
            "334/334 [==============================] - ETA: 0s - loss: 0.0843 - acc: 0.9660\n",
            "Epoch 00004: val_acc improved from 0.85600 to 0.86200, saving model to best_model.h5\n",
            "334/334 [==============================] - 27s 81ms/step - loss: 0.0843 - acc: 0.9660 - val_loss: 0.3940 - val_acc: 0.8620\n",
            "Epoch 5/15\n",
            "334/334 [==============================] - ETA: 0s - loss: 0.0502 - acc: 0.9835\n",
            "Epoch 00005: val_acc did not improve from 0.86200\n",
            "334/334 [==============================] - 26s 79ms/step - loss: 0.0502 - acc: 0.9835 - val_loss: 0.5695 - val_acc: 0.8530\n",
            "Epoch 6/15\n",
            "334/334 [==============================] - ETA: 0s - loss: 0.0293 - acc: 0.9900\n",
            "Epoch 00006: val_acc did not improve from 0.86200\n",
            "334/334 [==============================] - 26s 79ms/step - loss: 0.0293 - acc: 0.9900 - val_loss: 0.7902 - val_acc: 0.8570\n",
            "Epoch 7/15\n",
            "334/334 [==============================] - ETA: 0s - loss: 0.0161 - acc: 0.9950\n",
            "Epoch 00007: val_acc did not improve from 0.86200\n",
            "334/334 [==============================] - 26s 79ms/step - loss: 0.0161 - acc: 0.9950 - val_loss: 0.8672 - val_acc: 0.8370\n",
            "Epoch 00007: early stopping\n"
          ]
        }
      ]
    },
    {
      "cell_type": "code",
      "source": [
        "#load_to_model = load_model('best_model.h5')\n",
        "y_pred = model.predict(X_test)\n",
        "for i in range(len(y_pred)):\n",
        "  if y_pred[i] < 0.5:\n",
        "    y_pred[i] = 0\n",
        "  else:\n",
        "    y_pred[i]=1"
      ],
      "metadata": {
        "id": "EnCvsTrgd9iV"
      },
      "execution_count": null,
      "outputs": []
    },
    {
      "cell_type": "code",
      "source": [
        "submission['label'] = y_pred\n",
        "submission.to_csv(\"LSTM(2).csv\", index=False) # 0.8495"
      ],
      "metadata": {
        "id": "p-TNvaXTd9dK"
      },
      "execution_count": null,
      "outputs": []
    },
    {
      "cell_type": "markdown",
      "source": [
        "Refence\n",
        "- https://m.blog.naver.com/zzangdol57/221546199789"
      ],
      "metadata": {
        "id": "oB6S-GJGR5Nn"
      }
    }
  ]
}
